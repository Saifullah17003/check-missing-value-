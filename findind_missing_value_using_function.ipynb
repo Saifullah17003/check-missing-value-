{
  "nbformat": 4,
  "nbformat_minor": 0,
  "metadata": {
    "colab": {
      "provenance": [],
      "authorship_tag": "ABX9TyNbhIy72P881YFkjibqLMXm",
      "include_colab_link": true
    },
    "kernelspec": {
      "name": "python3",
      "display_name": "Python 3"
    },
    "language_info": {
      "name": "python"
    }
  },
  "cells": [
    {
      "cell_type": "markdown",
      "metadata": {
        "id": "view-in-github",
        "colab_type": "text"
      },
      "source": [
        "<a href=\"https://colab.research.google.com/github/Saifullah17003/check-missing-value-/blob/main/findind_missing_value_using_function.ipynb\" target=\"_parent\"><img src=\"https://colab.research.google.com/assets/colab-badge.svg\" alt=\"Open In Colab\"/></a>"
      ]
    },
    {
      "cell_type": "code",
      "execution_count": 41,
      "metadata": {
        "colab": {
          "base_uri": "https://localhost:8080/"
        },
        "id": "dmOIvk7PKAy-",
        "outputId": "e69c85b0-2399-4539-deb0-884c81e3c836"
      },
      "outputs": [
        {
          "output_type": "stream",
          "name": "stdout",
          "text": [
            "missimg values=[5, 6, 7, 8, 9, 12, 16, 17]\n"
          ]
        }
      ],
      "source": [
        "def getMissingVals(input_list, end_of_List1, start_of_List2):\n",
        "\n",
        "    # Ensure the indices are within the list bounds\n",
        "    if end_of_List1 >= start_of_List2 or end_of_List1 >= len(input_list) or start_of_List2 >= len(input_list):\n",
        "        return \"Invalid indices\"\n",
        "\n",
        "    list1 = input_list[:end_of_List1]\n",
        "    list2 = input_list[start_of_List2:]\n",
        "\n",
        "    # Find the missing values\n",
        "    missing_values = [val for val in range(list1[-1]+1, max(list2)+1) if val not in input_list]\n",
        "\n",
        "    if missing_values:\n",
        "        return f\"missimg values={missing_values}\"\n",
        "    else:\n",
        "        return \"No missing Val\"\n",
        "\n",
        "# Example\n",
        "input_list = [1,2,3,4,10,11,13,14,15,18]\n",
        "end_of_List1 = 4\n",
        "start_of_List2 = 8\n",
        "\n",
        "print(getMissingVals(input_list, end_of_List1, start_of_List2))"
      ]
    }
  ]
}